{
 "cells": [
  {
   "cell_type": "markdown",
   "metadata": {},
   "source": [
    "# torch.autograd 入门指南\n",
    "\n",
    "torch.autograd 是 PyTorch 的自动微分引擎，它为神经网络训练提供动力。\n",
    "\n",
    "## 背景\n",
    "\n",
    "神经网络 (NN) 是嵌套函数的集合，这些函数在某些输入数据上执行。这些函数由 *参数*（包括权重和偏差）定义，在 PyTorch 中，这些参数存储在张量中。\n",
    "\n",
    "**前向传播**：在前向传播中，NN 对正确的输出做出最佳猜测。它将输入数据通过其每个函数来进行此猜测。\n",
    "\n",
    "**反向传播**：在反向传播中，NN 根据其猜测中的误差调整其参数。它通过从输出向后遍历来实现这一点，收集误差相对于函数参数的导数（*梯度*），并使用梯度下降优化参数。\n",
    "\n"
   ]
  },
  {
   "cell_type": "markdown",
   "metadata": {},
   "source": []
  }
 ],
 "metadata": {
  "language_info": {
   "name": "python"
  }
 },
 "nbformat": 4,
 "nbformat_minor": 2
}
